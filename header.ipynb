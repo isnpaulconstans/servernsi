{
 "cells": [
  {
   "cell_type": "markdown",
   "metadata": {
    "nbgrader": {
     "grade": false,
     "grade_id": "cell-d03f2ac422d7ba5d",
     "locked": true,
     "schema_version": 3,
     "solution": false,
     "task": false
    }
   },
   "source": [
    "Ceci est un bloc note interractif. Vous pouvez taper du code dans les cellues qui commencent par `Entrée [ ]:` et exécuter ce code en tapant **`<Maj+Entree>`** ou en appuyant sur le bouton <button class=\"btn btn-default\" title=\"Exécuter\"><i class=\"fa-step-forward fa\"></i><span class=\"toolbar-btn-label\">Exécuter</span></button> dans la barre ci-dessus.\n",
    "\n",
    "Vérifiez bien que vous avez complété toutes les zones contenant `TAPEZ VOTRE CODE ICI` ou \"VOTRE REPONSE\"."
   ]
  },
  {
   "cell_type": "markdown",
   "metadata": {
    "nbgrader": {
     "grade": false,
     "grade_id": "cell-6f3c76acaf1da0cf",
     "locked": true,
     "schema_version": 3,
     "solution": false,
     "task": false
    }
   },
   "source": [
    "---"
   ]
  }
 ],
 "metadata": {
  "celltoolbar": "Create Assignment",
  "kernelspec": {
   "display_name": "Python 3",
   "language": "python",
   "name": "python3"
  },
  "language_info": {
   "codemirror_mode": {
    "name": "ipython",
    "version": 3
   },
   "file_extension": ".py",
   "mimetype": "text/x-python",
   "name": "python",
   "nbconvert_exporter": "python",
   "pygments_lexer": "ipython3",
   "version": "3.8.2"
  }
 },
 "nbformat": 4,
 "nbformat_minor": 1
}
