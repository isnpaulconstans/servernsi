{
 "cells": [
  {
   "cell_type": "markdown",
   "metadata": {},
   "source": [
    "---"
   ]
  },
  {
   "cell_type": "markdown",
   "metadata": {
    "nbgrader": {
     "grade": false,
     "grade_id": "cell-feee954f519d3768",
     "locked": true,
     "schema_version": 3,
     "solution": false,
     "task": false
    }
   },
   "source": [
    "Si vous pensez avoir terminé, vous pouvez cliquer sur le bouton <button class=\"btn btn-default validate\">Validate</button> dans la barre ci-dessus pour vérifier que vous n'avez rien oublié.\n",
    "\n",
    "Ensuite, fermez cet onglet, et dans l'onglet `Assignements` cliquez sur <button class=\"btn btn-primary btn-xs\">Submit</button> pour rendre votre travail. Une fois qu'il sera corrigé, vous pourrez cliquer sur <button class=\"btn btn-primary btn-xs\">Fetch Feedback</button> pour voir le retour."
   ]
  }
 ],
 "metadata": {
  "celltoolbar": "Create Assignment",
  "kernelspec": {
   "display_name": "Python 3",
   "language": "python",
   "name": "python3"
  },
  "language_info": {
   "codemirror_mode": {
    "name": "ipython",
    "version": 3
   },
   "file_extension": ".py",
   "mimetype": "text/x-python",
   "name": "python",
   "nbconvert_exporter": "python",
   "pygments_lexer": "ipython3",
   "version": "3.8.2"
  }
 },
 "nbformat": 4,
 "nbformat_minor": 1
}
